{
  "nbformat": 4,
  "nbformat_minor": 0,
  "metadata": {
    "colab": {
      "provenance": [],
      "toc_visible": true,
      "include_colab_link": true
    },
    "kernelspec": {
      "name": "python3",
      "display_name": "Python 3"
    },
    "language_info": {
      "name": "python"
    }
  },
  "cells": [
    {
      "cell_type": "markdown",
      "metadata": {
        "id": "view-in-github",
        "colab_type": "text"
      },
      "source": [
        "<a href=\"https://colab.research.google.com/github/grosed/5Rs-talk-and-workshop/blob/main/groups/group-4/active_changepoint_detection_reproduction.ipynb\" target=\"_parent\"><img src=\"https://colab.research.google.com/assets/colab-badge.svg\" alt=\"Open In Colab\"/></a>"
      ]
    },
    {
      "cell_type": "markdown",
      "source": [
        "# Libraries\n",
        "unsure on the bayes opt , we make some assumptions. \\\\\n",
        " \\\\\n",
        "bo lib doesnt seem correct. We later have a self.bo.plot_gp() which isn't a function we've defined."
      ],
      "metadata": {
        "id": "SJkY5EGQ28NZ"
      }
    },
    {
      "cell_type": "code",
      "execution_count": 7,
      "metadata": {
        "colab": {
          "base_uri": "https://localhost:8080/"
        },
        "id": "zd6Vr23lhAzG",
        "outputId": "04a11895-667a-4bfe-939b-7c999e8fded5"
      },
      "outputs": [
        {
          "output_type": "stream",
          "name": "stdout",
          "text": [
            "Looking in indexes: https://pypi.org/simple, https://us-python.pkg.dev/colab-wheels/public/simple/\n",
            "Requirement already satisfied: bayesian-optimization in /usr/local/lib/python3.9/dist-packages (1.4.2)\n",
            "Requirement already satisfied: scikit-learn>=0.18.0 in /usr/local/lib/python3.9/dist-packages (from bayesian-optimization) (1.2.2)\n",
            "Requirement already satisfied: numpy>=1.9.0 in /usr/local/lib/python3.9/dist-packages (from bayesian-optimization) (1.22.4)\n",
            "Requirement already satisfied: scipy>=1.0.0 in /usr/local/lib/python3.9/dist-packages (from bayesian-optimization) (1.10.1)\n",
            "Requirement already satisfied: colorama>=0.4.6 in /usr/local/lib/python3.9/dist-packages (from bayesian-optimization) (0.4.6)\n",
            "Requirement already satisfied: joblib>=1.1.1 in /usr/local/lib/python3.9/dist-packages (from scikit-learn>=0.18.0->bayesian-optimization) (1.2.0)\n",
            "Requirement already satisfied: threadpoolctl>=2.0.0 in /usr/local/lib/python3.9/dist-packages (from scikit-learn>=0.18.0->bayesian-optimization) (3.1.0)\n",
            "Looking in indexes: https://pypi.org/simple, https://us-python.pkg.dev/colab-wheels/public/simple/\n",
            "Requirement already satisfied: python-utils in /usr/local/lib/python3.9/dist-packages (3.5.2)\n"
          ]
        }
      ],
      "source": [
        "import numpy as np\n",
        "import matplotlib.pyplot as plt\n",
        "import itertools\n",
        "#import change_point_detection.cpd\n",
        "#from change_point_detection import cpd\n",
        "!pip install bayesian-optimization\n",
        "# bayes_out as bo doesnt seem to be it - we define \"bo\" as part of acpd class\n",
        "import bayes_opt as bo\n",
        "#from bayes_opt import BayesianOptimization as bo\n",
        "!pip install python-utils\n",
        "import python_utils\n",
        "\n",
        "#scp -r ./acpd hayashi@10.229.41.223:/home/hayashi/Program/\n"
      ]
    },
    {
      "cell_type": "markdown",
      "source": [
        "Found his function. It's a section of a previous paper, although it's in R."
      ],
      "metadata": {
        "id": "bPONrlrUxKfu"
      }
    },
    {
      "cell_type": "markdown",
      "source": [
        "avgDiff <- function(data, attribute.col, k, ranks=1, power = 1, mode=\"linear\") {\n",
        "  require(data.table)\n",
        "  require(FNN)\n",
        "  require(sp)\n",
        "  \n",
        "  knn <- get.knn(sp::coordinates(data), k=k)\n",
        "  near.neighbors <- as.data.table(knn)\n",
        "  \n",
        "  if (mode == \"linear\") {\n",
        "    near.neighbors <- near.neighbors[,(k+1):ncol(near.neighbors)]\n",
        "    near.neighbors$sum <- rowSums(near.neighbors, na.rm = FALSE, dims = 1)\n",
        "    weights <- near.neighbors[,1:(ncol(near.neighbors)-1)]/near.neighbors$sum\n",
        "  }\n",
        "  \n",
        "  if (mode == \"inverse\") {\n",
        "    near.neighbors <- near.neighbors[,(k+1):ncol(near.neighbors)]\n",
        "    weights <-(1/(near.neighbors^power))\n",
        "  }\n",
        "  \n",
        "  col <- which(colnames(data@data)==attribute.col)\n",
        "  attributes <- data@data[c(knn$nn.index), col]\n",
        "  attributes <- data.frame(matrix(unlist(attributes), ncol=k), stringsAsFactors=FALSE)\n",
        "  \n",
        "  table <- cbind(seq(1:nrow(attributes)), attributes)\n",
        "  \n",
        "  difference <- abs(data@data[c(table[,1]), col] - table[,2:ncol(table)])\n",
        "  \n",
        "  weighted_difference <- as.data.table(difference) * weights\n",
        "  \n",
        "  result <- as.data.table(cbind(seq(1:nrow(weighted_difference)), as.data.table(rowSums(weighted_difference))))\n",
        "  names(result) <- c(\"ID\", \"AvgDiff\")\n",
        "  result <- result[order(-AvgDiff)]\n",
        "  \n",
        "  data$id <- 1:nrow(data)\n",
        "  ranked_diffs <- result[1:2000,1]\n",
        "  data <- subset(data, !data$Id %in% as.list(ranked_diffs$ID))\n",
        "  data\n",
        "}"
      ],
      "metadata": {
        "id": "d6sPdZP15W4Z"
      }
    },
    {
      "cell_type": "markdown",
      "source": [
        "# ActiveChangepointDetection Class"
      ],
      "metadata": {
        "id": "_u8VrnZYrGKu"
      }
    },
    {
      "cell_type": "markdown",
      "source": [
        "Issue is he doesnt provide change_point_detection.cpd. We need to find another package to sub that in. In the code below he just uses some linear regression likelihood selection method to replace."
      ],
      "metadata": {
        "id": "Yw5vmNKyjwog"
      }
    },
    {
      "cell_type": "code",
      "source": [
        "class ActiveChangePointDetection:\n",
        "    def __init__(self, init_X, init_Y, bounds=[{},{}], cpd='linear_likelihood', strategy='bo', acq='ei', kern='rbf', estimate_method='mean', exclude_initial_X=True, centerize_input=False):\n",
        "        '''\n",
        "        attribute order of init_X must be same as bounds\n",
        "            e.g. of bounds with attributes (c1, d2): [{'name': 'c1', 'type': 'continuous', 'domain': [1,2,3]}, {'name': 'd1', 'type': 'discrete', 'domain': [11,12]}]\n",
        "        cpd:'linear_likelihood', '3poly_likelihood'\n",
        "        '''\n",
        "        self.input_dim = len(bounds)\n",
        "        self.X = init_X.reshape(-1, self.input_dim)\n",
        "        self.centerized_X = None\n",
        "        self.output_dim = init_Y.reshape(self.X.shape[0], -1).shape[1]\n",
        "        self.Y = init_Y.reshape(-1, self.output_dim)\n",
        "        self.centerized_Y = None\n",
        "\n",
        "        self.bounds = bounds\n",
        "        self.estimate_method = estimate_method\n",
        "        self.C = None # change scores\n",
        "\n",
        "        self.centerize_input = centerize_input\n",
        "\n",
        "        if self.input_dim == 1:\n",
        "            self.original_input_set = np.asarray(bounds[0]['domain']).reshape(-1, self.input_dim)\n",
        "        else:\n",
        "            self.original_input_set = np.asarray(list(itertools.product(*[var['domain'] for var in bounds]))).reshape(-1, self.input_dim) # ndarray\n",
        "        if exclude_initial_X:\n",
        "            self.rest_input_set = utility.remove_duplicate_array(self.original_input_set, init_X.reshape(-1,self.input_dim), dim=self.input_dim)\n",
        "            #list(set(self.original_input_set) - set(init_X.reshape(-1,self.input_dim)))\n",
        "        else:\n",
        "            self.rest_input_set = self.original_input_set\n",
        "\n",
        "        # change-point detector\n",
        "        self.cpd = cpd # 'linear_likelihood', '3poly_likelihood'\n",
        "        # initialize change score calculator\n",
        "        if self.cpd == 'linear_likelihood':\n",
        "            self.change_score_calculator = change_point_detection.cpd.LinearRegressionCPDetector(basis_func='raw')\n",
        "        elif self.cpd == '3poly_likelihood':\n",
        "            self.change_score_calculator = change_point_detection.cpd.LinearRegressionCPDetector(basis_func='3poly')\n",
        "\n",
        "        # determination Strategy\n",
        "        self.strategy = strategy\n",
        "        # bayesian optimization\n",
        "        self.acq = acq\n",
        "        self.kern = kern\n",
        "\n",
        "        if len(bounds) == 1:\n",
        "            self.sorted_i = np.argsort(self.X) # set\n",
        "        else:\n",
        "            # multi-input\n",
        "            pass\n",
        "\n",
        "        # do not use unobserved bounds, because not clearly control with check function for same next_input\n",
        "\n",
        "        # estimates\n",
        "        self.max_c = None\n",
        "        self.max_x = None\n",
        "        self.predictive_cs_mean = None # corresponds to self.input_domain\n",
        "        self.predictive_cs_var = None\n",
        "\n",
        "        self.estimated_CP = []\n",
        "\n",
        "        # miscelleneous data\n",
        "        self.iteration_n = 0\n",
        "\n",
        "        # initialization change-point detection for itinial data\n",
        "        _ = self.determine_next_input()\n",
        "\n",
        "    def determine_next_input(self, X=None, y=None, num_restarts=1):\n",
        "        # compute change scores\n",
        "        if X is not None: # with report_data\n",
        "            self.X = X\n",
        "            self.Y = y\n",
        "        self.change_score_calculator.fit(self.X, self.Y)\n",
        "        self.C = self.change_score_calculator.compute_change_score(self.X, self.Y)\n",
        "        if self.strategy == 'bo':\n",
        "            # Bayesian optimization\n",
        "            if self.centerize_input: # to slip to centers of adjacent inputs\n",
        "                sorting_i = self.X.ravel().argsort()\n",
        "                sorted_X = self.X[sorting_i]\n",
        "                sorted_C = self.C[sorting_i]\n",
        "\n",
        "                self.centerized_X = ((sorted_X[1:] + sorted_X[:-1]) / 2).reshape(-1,self.input_dim)\n",
        "                self.centerized_C = sorted_C[1:].reshape(-1,1)\n",
        "                self.bo = bo.BayesianOptimization(init_X=self.centerized_X, init_Y=self.centerized_C, input_set=self.rest_input_set, kern=self.kern, exclude_initial_X=False, num_restarts=num_restarts)\n",
        "            else:\n",
        "                self.bo = bo.BayesianOptimization(init_X=self.X, init_Y=self.C, bounds=self.bounds, kern=self.kern, exclude_initial_X=True, num_restarts=num_restarts)\n",
        "            next_input = self.bo.determine_next_input(acq=self.acq)\n",
        "        elif self.strategy == 'greedy':\n",
        "            # greedy only for 1-d input\n",
        "            sorting_i = self.X.ravel().argsort()\n",
        "            sorted_X = self.X[sorting_i]\n",
        "            sorted_Y = self.Y[sorting_i]\n",
        "            sorted_C = self.C.ravel()[sorting_i]\n",
        "            sorted_max_i = sorted_C.ravel().argmax()\n",
        "            if sorted_max_i == 0:\n",
        "                next_i = sorted_max_i + 1\n",
        "            elif sorted_max_i == len(sorted_C) - 1:\n",
        "                next_i = sorted_max_i - 1\n",
        "            elif sorted_C[sorted_max_i+1] > sorted_C[sorted_max_i-1]:\n",
        "                next_i = sorted_max_i + 1\n",
        "            elif sorted_C[sorted_max_i+1] < sorted_C[sorted_max_i-1]:\n",
        "                next_i = sorted_max_i - 1\n",
        "            else: # for equal\n",
        "                next_i = sorted_max_i + np.random.choice([-1, 1])\n",
        "            greedy_middle_x = (sorted_X[sorted_max_i] + sorted_X[next_i]) / 2\n",
        "            next_input = utility.find_nearest_value(self.rest_input_set, greedy_middle_x)\n",
        "        elif self.strategy == 'random':\n",
        "            next_input = self.rest_input_set[np.random.choice(np.arange(len(self.rest_input_set)))].reshape(1, self.input_dim)\n",
        "        return next_input\n",
        "\n",
        "    def report(self, new_input, new_output):\n",
        "        new_input.shape = (1, self.input_dim)\n",
        "        new_output.shape = (1, self.output_dim)\n",
        "        self.X = np.r_[self.X, new_input]\n",
        "        self.Y = np.r_[self.Y, new_output]\n",
        "        self.rest_input_set = utility.remove_duplicate_array(self.rest_input_set, new_input, dim=self.input_dim)\n",
        "\n",
        "        self.iteration_n += 1\n",
        "\n",
        "    def estimate_cp(self, X=None, Y=None, method=None, num_restarts=1):\n",
        "        # todo: not ready for multi change-points\n",
        "        '''\n",
        "        param:mean:string:'mean' gp estimated, 'data' data max\n",
        "        '''\n",
        "        if method is None:\n",
        "            method = self.estimate_method\n",
        "        # compute change scores\n",
        "        if X is None: # with report_data\n",
        "            X = self.X\n",
        "            Y = self.Y\n",
        "        self.change_score_calculator.fit(X, Y)\n",
        "        C = self.change_score_calculator.compute_change_score(X, Y)\n",
        "\n",
        "        if self.centerize_input:\n",
        "            sorting_i = X.ravel().argsort()\n",
        "            sorted_X = X[sorting_i]\n",
        "            sorted_C = C[sorting_i]\n",
        "\n",
        "            X = centerized_X = ((sorted_X[1:] + sorted_X[:-1]) / 2).reshape(-1,self.input_dim)\n",
        "            C = centerized_C = sorted_C[1:].reshape(-1,1)\n",
        "\n",
        "        if method == 'data':\n",
        "            return X[C.argmax()]\n",
        "        elif method == 'mean':\n",
        "            # Bayesian optimization\n",
        "            bayesian_optimizer = bo.BayesianOptimization(init_X=X, init_Y=C, bounds=self.bounds, kern=self.kern, exclude_initial_X=True, num_restarts=num_restarts)\n",
        "            return bayesian_optimizer.estimate_max(method=method)\n",
        "\n",
        "    def plot_XYC(self, t=-1, cp=None, fontsize=16, fig_name=None, fig_format='pdf', fig_dpi=300, method=None):\n",
        "        '''\n",
        "        machigatteru\n",
        "        plot Data from iter_n=0 to iter_n=t, and c(x) at iter_n=t\n",
        "        '''\n",
        "        if self.input_dim != 1 or self.output_dim != 1:\n",
        "            raise Exception('inut dim and output dim must be one')\n",
        "        if method is None:\n",
        "            method = self.estimate_method\n",
        "\n",
        "        cp = np.asarray(cp)\n",
        "\n",
        "        fig, ax1 = plt.subplots()\n",
        "        if t == -1:\n",
        "            iter_n = len(self.X)\n",
        "        elif t < -1:\n",
        "            iter_n = t + 1\n",
        "        elif t > 0:\n",
        "            iter_n = len(self.X) - self.iteration_n + t + 1\n",
        "\n",
        "        X = self.X[:iter_n].ravel()\n",
        "        Y = self.Y[:iter_n].ravel()\n",
        "        sorting_i = X.argsort()\n",
        "        sorted_X = X[sorting_i]\n",
        "        sorted_Y = Y[sorting_i]\n",
        "        self.change_score_calculator.fit(sorted_X, sorted_Y)\n",
        "        C = self.change_score_calculator.compute_change_score(sorted_X.reshape(-1,self.input_dim), sorted_Y.reshape(-1,self.output_dim))\n",
        "        plt1 = ax1.plot(sorted_X, sorted_Y, 'k^-', label='Data')\n",
        "\n",
        "        plt3 = ax1.axvline(x=self.X[t], linestyle='--', color='blue', label='New input')\n",
        "        if cp.size == 1:\n",
        "            plt4 = ax1.axvline(x=self.estimate_cp(sorted_X.reshape(-1,self.input_dim), sorted_Y.reshape(-1,self.output_dim), method=method), linestyle='-.', color='red', label='Estimated cp')\n",
        "\n",
        "        ax1.set_ylabel('Output', fontsize=fontsize)\n",
        "        ax1.set_xlabel('Input', fontsize=fontsize)\n",
        "\n",
        "        ax2 = ax1.twinx()\n",
        "        if self.centerize_input:\n",
        "            centerized_X = (sorted_X[1:] + sorted_X[:-1]) / 2\n",
        "            centerized_C = C[1:] # C is already sorted\n",
        "            plt2 = ax2.plot(centerized_X, centerized_C, 'ro-', label='Change score')\n",
        "        else:\n",
        "            plt2 = ax2.plot(sorted_X, C, 'ro-', label='Change score')\n",
        "        ax2.set_ylabel('Change score', fontsize=fontsize)\n",
        "\n",
        "        if cp is not None:\n",
        "            if cp.size == 1:\n",
        "                #plt.xticks(rotation=70)\n",
        "                #ax2.xticks(rotation=70)\n",
        "                plt5 = ax1.axvline(x=cp, linestyle=':', color='green', label='True cp')\n",
        "                lns = plt1 + plt2 + [plt3, plt4, plt5]\n",
        "                # plt.xticks(list(plt.xticks()[0]) + [cp], rotation =30) if add this line, ax1 and ax2 goes away\n",
        "                ''' to rotate ax1 and ax2 subplots\n",
        "                for ax in fig.axes:\n",
        "                    plt.sca(ax)\n",
        "                    plt.xticks(rotation=70)\n",
        "                '''\n",
        "            elif cp.size > 1:\n",
        "                plt5 = ax1.axvline(x=cp[0], linestyle=':', color='green', label='True cp')\n",
        "                for i in range(1, len(cp)):\n",
        "                    ax1.axvline(x=cp[i], linestyle=':', color='green')\n",
        "                lns = plt1 + plt2 + [plt3, plt5]\n",
        "        else:\n",
        "            if cp.size == 1:\n",
        "                lns = plt1 + plt2 + [plt3, plt4]\n",
        "            elif cp.size > 1:\n",
        "                lns = plt1 + plt2 + [plt3, plt5]\n",
        "\n",
        "        margin = self.original_input_set.ptp() / 20\n",
        "        ax1.set_xlim(self.original_input_set[0] - margin, self.original_input_set[-1] + margin)\n",
        "\n",
        "        #lns = [plt1+plt2, plt3]\n",
        "        #lns = (plt1+plt2).append(plt3)\n",
        "\n",
        "        #labs = [plt1.get_label(), plt2.get_label(), plt3.get_label()]\n",
        "        labs = [l.get_label() for l in lns]\n",
        "        ax1.legend(lns, labs)\n",
        "\n",
        "        if fig_name != None:\n",
        "            plt.savefig(fig_name, format=fig_format, dpi=fig_dpi, bbox_inches='tight')\n",
        "            plt.close()\n"
      ],
      "metadata": {
        "id": "7rq5_Qp9jugY"
      },
      "execution_count": 2,
      "outputs": []
    },
    {
      "cell_type": "markdown",
      "source": [
        "# ActiveChangePointDetection0"
      ],
      "metadata": {
        "id": "o7na4dtzsKu6"
      }
    },
    {
      "cell_type": "markdown",
      "source": [
        "We have zero clue what the \"bo\" package is bu it doesnt look like what we've got. here we have a self reference .bo.plot_gp() -> which makes no sense."
      ],
      "metadata": {
        "id": "dt7NeSavl7-o"
      }
    },
    {
      "cell_type": "code",
      "source": [
        "class ActiveChangePointDetection0:\n",
        "    '''\n",
        "    Exploration Strategy:\n",
        "        LikelihoodSearch\n",
        "        GradientSearch\n",
        "    '''\n",
        "    def __init__(self, init_X=None, init_Y=None, interactive=True, func=False, bounds={'x1':np.arange(0,100,1000)}):\n",
        "        self.init_sample_n = 5\n",
        "\n",
        "        if bounds == None:\n",
        "            raise AttributeError('Attribute \\'bounds\\'={\\'x1\\': set of inputs} is necessary')\n",
        "\n",
        "        if init_X is None or len(init_X) < self.init_sample_n:\n",
        "            raise AttributeError('# of init_X must be larger than %d' % self.init_sample_n)\n",
        "\n",
        "        # variables\n",
        "        #self.queries = bounds\n",
        "        self.X = list(init_X) # input\n",
        "        '''future work: how sort multi inputs?'''\n",
        "        self.sorted_i = [np.argsort(init_X.ravel())] # sorted input\n",
        "        self.Y = list(init_Y) # output\n",
        "        self.bounds = bounds\n",
        "        #self.rest_input_set = np.setdiff1d(bounds['x1'], init_X).reshape(-1,1)\n",
        "        #self.rest_bounds = bounds\n",
        "        self.rest_bounds = {}\n",
        "        self.rest_bounds['x1'] = np.setdiff1d(bounds['x1'], init_X).reshape(-1,1)\n",
        "\n",
        "        # core variables\n",
        "        self.c = list() # change point confidence c(x)\n",
        "        self.c_X = list() # inputs for change point confidence c(x)\n",
        "        self.c_sorted_i = list() # indices of inputs for change point confidence c(x)\n",
        "        self.max_c_x = list()\n",
        "        self.convergence_criterion = list() # convergence if small enough\n",
        "\n",
        "        # setting parameters\n",
        "        self.onedata_score = -40 # -1.2\n",
        "        self.twodata_score = -20 # -2.7\n",
        "\n",
        "        self.input_dim = len(bounds)\n",
        "        self.iteration_n = 0\n",
        "\n",
        "\n",
        "    def update_data(self, new_input, new_output):\n",
        "        if new_input in self.X:\n",
        "            raise Exception('New input already in sampled inputs')\n",
        "        self.rest_bounds['x1'] = np.setdiff1d(self.rest_bounds['x1'], np.array(new_input)).reshape(-1,1)\n",
        "        self.X.append(new_input)\n",
        "        self.Y.append(new_output)\n",
        "        self.sorted_i.append(np.argsort(np.array(self.X).ravel())) # future work: how sort multi input?\n",
        "        self.iteration_n += 1\n",
        "\n",
        "    def plot_XYC(self, t=-1, cp=None, fontsize=16, fig_name=None, fig_format='png', fig_dpi=300):\n",
        "        '''\n",
        "        plot Data from iter_n=0 to iter_n=t, and c(x) at iter_n=t\n",
        "        '''\n",
        "        fig, ax1 = plt.subplots()\n",
        "        if t == -1:\n",
        "            iter_n = len(self.X) - 1\n",
        "        elif t < 0:\n",
        "            iter_n = t + 1\n",
        "        elif t > 0:\n",
        "            iter_n = len(self.X) - self.iteration_n + t + 1\n",
        "        plt1 = ax1.plot(np.array(self.X)[:iter_n+1][self.sorted_i[t]], np.array(self.Y)[:iter_n+1][self.sorted_i[t]], 'ko-', label='Data')\n",
        "\n",
        "        plt3 = ax1.axvline(x=self.X[t], linestyle='--', color='blue', label='Sampled input')\n",
        "        plt4 = ax1.axvline(x=self.max_c_x[t], linestyle='-.', color='red', label='Calculated cp')\n",
        "\n",
        "        ax1.set_ylabel('Output', fontsize=fontsize)\n",
        "        ax1.set_xlabel('Input', fontsize=fontsize)\n",
        "\n",
        "        ax2 = ax1.twinx()\n",
        "        plt2 = ax2.plot(np.array(self.c_X)[t][self.c_sorted_i[t]], np.array(self.c)[t][self.c_sorted_i[t]], 'ro-', label='$s(x)$')\n",
        "        ax2.set_ylabel('$s(x)$', fontsize=fontsize)\n",
        "\n",
        "        if cp != None:\n",
        "            #plt.xticks(rotation=70)\n",
        "            #ax2.xticks(rotation=70)\n",
        "            plt5 = ax1.axvline(x=cp, linestyle=':', color='green', label='Ground cp')\n",
        "            lns = plt1 + plt2 + [plt3, plt4, plt5]\n",
        "            # plt.xticks(list(plt.xticks()[0]) + [cp], rotation =30) if add this line, ax1 and ax2 goes away\n",
        "            ''' to rotate ax1 and ax2 subplots\n",
        "            for ax in fig.axes:\n",
        "                plt.sca(ax)\n",
        "                plt.xticks(rotation=70)\n",
        "            '''\n",
        "        else:\n",
        "            lns = plt1 + plt2 + [plt3, plt4]\n",
        "\n",
        "        #lns = [plt1+plt2, plt3]\n",
        "        #lns = (plt1+plt2).append(plt3)\n",
        "\n",
        "        #labs = [plt1.get_label(), plt2.get_label(), plt3.get_label()]\n",
        "        labs = [l.get_label() for l in lns]\n",
        "        ax1.legend(lns, labs)\n",
        "\n",
        "        if fig_name != None:\n",
        "            plt.savefig(fig_name, format=fig_format, dpi=fig_dpi, bbox_inches='tight')\n",
        "            plt.close()\n",
        "\n",
        "    def plot_GP(self, bounds=None):\n",
        "        if bounds == None:\n",
        "            self.bo.plot_gp(bounds=self.bounds)\n",
        "        else:\n",
        "            self.bo.plot_gp(bounds=bounds)\n",
        "\n",
        "\n"
      ],
      "metadata": {
        "id": "0-KEA8atjUdv"
      },
      "execution_count": 3,
      "outputs": []
    },
    {
      "cell_type": "markdown",
      "source": [
        "# Trying to run these"
      ],
      "metadata": {
        "id": "ge8iicwhtukY"
      }
    },
    {
      "cell_type": "markdown",
      "source": [
        "Coding in example functions. Note that while he needs it in numpy structures, he never specifies this :/ \\\\\n",
        " \\\\\n",
        "The more I look into the bayes_opt package the more what he is doing with \"bo\" doesnt align with what is provided in the typical \"bo\" package."
      ],
      "metadata": {
        "id": "3juWm0xe3rTV"
      }
    },
    {
      "cell_type": "code",
      "source": [
        "XRange=np.arange(0,250)\n",
        "PTBias=[0.1*x+30 for x in XRange if x < 143.15]+[0.1*x + 60 for x in XRange if x > 143.15]\n",
        "PTBias=np.array(PTBias)\n",
        "SD=20\n",
        "Errors=np.random.randn(len(PTBias))*SD\n",
        "PTBias=PTBias+Errors\n",
        "autput = ActiveChangePointDetection(init_X=XRange,init_Y=PTBias)"
      ],
      "metadata": {
        "id": "P4McHTDn6nc0",
        "colab": {
          "base_uri": "https://localhost:8080/",
          "height": 381
        },
        "outputId": "1eed6fdd-eac7-4138-b37a-038f96e04c9f"
      },
      "execution_count": 8,
      "outputs": [
        {
          "output_type": "error",
          "ename": "KeyError",
          "evalue": "ignored",
          "traceback": [
            "\u001b[0;31m---------------------------------------------------------------------------\u001b[0m",
            "\u001b[0;31mKeyError\u001b[0m                                  Traceback (most recent call last)",
            "\u001b[0;32m<ipython-input-8-9744ce47db90>\u001b[0m in \u001b[0;36m<cell line: 7>\u001b[0;34m()\u001b[0m\n\u001b[1;32m      5\u001b[0m \u001b[0mErrors\u001b[0m\u001b[0;34m=\u001b[0m\u001b[0mnp\u001b[0m\u001b[0;34m.\u001b[0m\u001b[0mrandom\u001b[0m\u001b[0;34m.\u001b[0m\u001b[0mrandn\u001b[0m\u001b[0;34m(\u001b[0m\u001b[0mlen\u001b[0m\u001b[0;34m(\u001b[0m\u001b[0mPTBias\u001b[0m\u001b[0;34m)\u001b[0m\u001b[0;34m)\u001b[0m\u001b[0;34m*\u001b[0m\u001b[0mSD\u001b[0m\u001b[0;34m\u001b[0m\u001b[0;34m\u001b[0m\u001b[0m\n\u001b[1;32m      6\u001b[0m \u001b[0mPTBias\u001b[0m\u001b[0;34m=\u001b[0m\u001b[0mPTBias\u001b[0m\u001b[0;34m+\u001b[0m\u001b[0mErrors\u001b[0m\u001b[0;34m\u001b[0m\u001b[0;34m\u001b[0m\u001b[0m\n\u001b[0;32m----> 7\u001b[0;31m \u001b[0mautput\u001b[0m \u001b[0;34m=\u001b[0m \u001b[0mActiveChangePointDetection\u001b[0m\u001b[0;34m(\u001b[0m\u001b[0minit_X\u001b[0m\u001b[0;34m=\u001b[0m\u001b[0mXRange\u001b[0m\u001b[0;34m,\u001b[0m\u001b[0minit_Y\u001b[0m\u001b[0;34m=\u001b[0m\u001b[0mPTBias\u001b[0m\u001b[0;34m)\u001b[0m\u001b[0;34m\u001b[0m\u001b[0;34m\u001b[0m\u001b[0m\n\u001b[0m",
            "\u001b[0;32m<ipython-input-2-c6069e1ec760>\u001b[0m in \u001b[0;36m__init__\u001b[0;34m(self, init_X, init_Y, bounds, cpd, strategy, acq, kern, estimate_method, exclude_initial_X, centerize_input)\u001b[0m\n\u001b[1;32m     22\u001b[0m             \u001b[0mself\u001b[0m\u001b[0;34m.\u001b[0m\u001b[0moriginal_input_set\u001b[0m \u001b[0;34m=\u001b[0m \u001b[0mnp\u001b[0m\u001b[0;34m.\u001b[0m\u001b[0masarray\u001b[0m\u001b[0;34m(\u001b[0m\u001b[0mbounds\u001b[0m\u001b[0;34m[\u001b[0m\u001b[0;36m0\u001b[0m\u001b[0;34m]\u001b[0m\u001b[0;34m[\u001b[0m\u001b[0;34m'domain'\u001b[0m\u001b[0;34m]\u001b[0m\u001b[0;34m)\u001b[0m\u001b[0;34m.\u001b[0m\u001b[0mreshape\u001b[0m\u001b[0;34m(\u001b[0m\u001b[0;34m-\u001b[0m\u001b[0;36m1\u001b[0m\u001b[0;34m,\u001b[0m \u001b[0mself\u001b[0m\u001b[0;34m.\u001b[0m\u001b[0minput_dim\u001b[0m\u001b[0;34m)\u001b[0m\u001b[0;34m\u001b[0m\u001b[0;34m\u001b[0m\u001b[0m\n\u001b[1;32m     23\u001b[0m         \u001b[0;32melse\u001b[0m\u001b[0;34m:\u001b[0m\u001b[0;34m\u001b[0m\u001b[0;34m\u001b[0m\u001b[0m\n\u001b[0;32m---> 24\u001b[0;31m             \u001b[0mself\u001b[0m\u001b[0;34m.\u001b[0m\u001b[0moriginal_input_set\u001b[0m \u001b[0;34m=\u001b[0m \u001b[0mnp\u001b[0m\u001b[0;34m.\u001b[0m\u001b[0masarray\u001b[0m\u001b[0;34m(\u001b[0m\u001b[0mlist\u001b[0m\u001b[0;34m(\u001b[0m\u001b[0mitertools\u001b[0m\u001b[0;34m.\u001b[0m\u001b[0mproduct\u001b[0m\u001b[0;34m(\u001b[0m\u001b[0;34m*\u001b[0m\u001b[0;34m[\u001b[0m\u001b[0mvar\u001b[0m\u001b[0;34m[\u001b[0m\u001b[0;34m'domain'\u001b[0m\u001b[0;34m]\u001b[0m \u001b[0;32mfor\u001b[0m \u001b[0mvar\u001b[0m \u001b[0;32min\u001b[0m \u001b[0mbounds\u001b[0m\u001b[0;34m]\u001b[0m\u001b[0;34m)\u001b[0m\u001b[0;34m)\u001b[0m\u001b[0;34m)\u001b[0m\u001b[0;34m.\u001b[0m\u001b[0mreshape\u001b[0m\u001b[0;34m(\u001b[0m\u001b[0;34m-\u001b[0m\u001b[0;36m1\u001b[0m\u001b[0;34m,\u001b[0m \u001b[0mself\u001b[0m\u001b[0;34m.\u001b[0m\u001b[0minput_dim\u001b[0m\u001b[0;34m)\u001b[0m \u001b[0;31m# ndarray\u001b[0m\u001b[0;34m\u001b[0m\u001b[0;34m\u001b[0m\u001b[0m\n\u001b[0m\u001b[1;32m     25\u001b[0m         \u001b[0;32mif\u001b[0m \u001b[0mexclude_initial_X\u001b[0m\u001b[0;34m:\u001b[0m\u001b[0;34m\u001b[0m\u001b[0;34m\u001b[0m\u001b[0m\n\u001b[1;32m     26\u001b[0m             \u001b[0mself\u001b[0m\u001b[0;34m.\u001b[0m\u001b[0mrest_input_set\u001b[0m \u001b[0;34m=\u001b[0m \u001b[0mutility\u001b[0m\u001b[0;34m.\u001b[0m\u001b[0mremove_duplicate_array\u001b[0m\u001b[0;34m(\u001b[0m\u001b[0mself\u001b[0m\u001b[0;34m.\u001b[0m\u001b[0moriginal_input_set\u001b[0m\u001b[0;34m,\u001b[0m \u001b[0minit_X\u001b[0m\u001b[0;34m.\u001b[0m\u001b[0mreshape\u001b[0m\u001b[0;34m(\u001b[0m\u001b[0;34m-\u001b[0m\u001b[0;36m1\u001b[0m\u001b[0;34m,\u001b[0m\u001b[0mself\u001b[0m\u001b[0;34m.\u001b[0m\u001b[0minput_dim\u001b[0m\u001b[0;34m)\u001b[0m\u001b[0;34m,\u001b[0m \u001b[0mdim\u001b[0m\u001b[0;34m=\u001b[0m\u001b[0mself\u001b[0m\u001b[0;34m.\u001b[0m\u001b[0minput_dim\u001b[0m\u001b[0;34m)\u001b[0m\u001b[0;34m\u001b[0m\u001b[0;34m\u001b[0m\u001b[0m\n",
            "\u001b[0;32m<ipython-input-2-c6069e1ec760>\u001b[0m in \u001b[0;36m<listcomp>\u001b[0;34m(.0)\u001b[0m\n\u001b[1;32m     22\u001b[0m             \u001b[0mself\u001b[0m\u001b[0;34m.\u001b[0m\u001b[0moriginal_input_set\u001b[0m \u001b[0;34m=\u001b[0m \u001b[0mnp\u001b[0m\u001b[0;34m.\u001b[0m\u001b[0masarray\u001b[0m\u001b[0;34m(\u001b[0m\u001b[0mbounds\u001b[0m\u001b[0;34m[\u001b[0m\u001b[0;36m0\u001b[0m\u001b[0;34m]\u001b[0m\u001b[0;34m[\u001b[0m\u001b[0;34m'domain'\u001b[0m\u001b[0;34m]\u001b[0m\u001b[0;34m)\u001b[0m\u001b[0;34m.\u001b[0m\u001b[0mreshape\u001b[0m\u001b[0;34m(\u001b[0m\u001b[0;34m-\u001b[0m\u001b[0;36m1\u001b[0m\u001b[0;34m,\u001b[0m \u001b[0mself\u001b[0m\u001b[0;34m.\u001b[0m\u001b[0minput_dim\u001b[0m\u001b[0;34m)\u001b[0m\u001b[0;34m\u001b[0m\u001b[0;34m\u001b[0m\u001b[0m\n\u001b[1;32m     23\u001b[0m         \u001b[0;32melse\u001b[0m\u001b[0;34m:\u001b[0m\u001b[0;34m\u001b[0m\u001b[0;34m\u001b[0m\u001b[0m\n\u001b[0;32m---> 24\u001b[0;31m             \u001b[0mself\u001b[0m\u001b[0;34m.\u001b[0m\u001b[0moriginal_input_set\u001b[0m \u001b[0;34m=\u001b[0m \u001b[0mnp\u001b[0m\u001b[0;34m.\u001b[0m\u001b[0masarray\u001b[0m\u001b[0;34m(\u001b[0m\u001b[0mlist\u001b[0m\u001b[0;34m(\u001b[0m\u001b[0mitertools\u001b[0m\u001b[0;34m.\u001b[0m\u001b[0mproduct\u001b[0m\u001b[0;34m(\u001b[0m\u001b[0;34m*\u001b[0m\u001b[0;34m[\u001b[0m\u001b[0mvar\u001b[0m\u001b[0;34m[\u001b[0m\u001b[0;34m'domain'\u001b[0m\u001b[0;34m]\u001b[0m \u001b[0;32mfor\u001b[0m \u001b[0mvar\u001b[0m \u001b[0;32min\u001b[0m \u001b[0mbounds\u001b[0m\u001b[0;34m]\u001b[0m\u001b[0;34m)\u001b[0m\u001b[0;34m)\u001b[0m\u001b[0;34m)\u001b[0m\u001b[0;34m.\u001b[0m\u001b[0mreshape\u001b[0m\u001b[0;34m(\u001b[0m\u001b[0;34m-\u001b[0m\u001b[0;36m1\u001b[0m\u001b[0;34m,\u001b[0m \u001b[0mself\u001b[0m\u001b[0;34m.\u001b[0m\u001b[0minput_dim\u001b[0m\u001b[0;34m)\u001b[0m \u001b[0;31m# ndarray\u001b[0m\u001b[0;34m\u001b[0m\u001b[0;34m\u001b[0m\u001b[0m\n\u001b[0m\u001b[1;32m     25\u001b[0m         \u001b[0;32mif\u001b[0m \u001b[0mexclude_initial_X\u001b[0m\u001b[0;34m:\u001b[0m\u001b[0;34m\u001b[0m\u001b[0;34m\u001b[0m\u001b[0m\n\u001b[1;32m     26\u001b[0m             \u001b[0mself\u001b[0m\u001b[0;34m.\u001b[0m\u001b[0mrest_input_set\u001b[0m \u001b[0;34m=\u001b[0m \u001b[0mutility\u001b[0m\u001b[0;34m.\u001b[0m\u001b[0mremove_duplicate_array\u001b[0m\u001b[0;34m(\u001b[0m\u001b[0mself\u001b[0m\u001b[0;34m.\u001b[0m\u001b[0moriginal_input_set\u001b[0m\u001b[0;34m,\u001b[0m \u001b[0minit_X\u001b[0m\u001b[0;34m.\u001b[0m\u001b[0mreshape\u001b[0m\u001b[0;34m(\u001b[0m\u001b[0;34m-\u001b[0m\u001b[0;36m1\u001b[0m\u001b[0;34m,\u001b[0m\u001b[0mself\u001b[0m\u001b[0;34m.\u001b[0m\u001b[0minput_dim\u001b[0m\u001b[0;34m)\u001b[0m\u001b[0;34m,\u001b[0m \u001b[0mdim\u001b[0m\u001b[0;34m=\u001b[0m\u001b[0mself\u001b[0m\u001b[0;34m.\u001b[0m\u001b[0minput_dim\u001b[0m\u001b[0;34m)\u001b[0m\u001b[0;34m\u001b[0m\u001b[0;34m\u001b[0m\u001b[0m\n",
            "\u001b[0;31mKeyError\u001b[0m: 'domain'"
          ]
        }
      ]
    },
    {
      "cell_type": "code",
      "source": [
        "%matplotlib inline\n",
        "import matplotlib.pyplot as plt\n",
        "plt.plot(XRange,PTBias)\n",
        "\n",
        "#autput.max_c_x"
      ],
      "metadata": {
        "id": "13ol6zjx32I2",
        "colab": {
          "base_uri": "https://localhost:8080/",
          "height": 447
        },
        "outputId": "527d1cb0-60f2-403e-d7c0-cef8a29c4ea0"
      },
      "execution_count": 5,
      "outputs": [
        {
          "output_type": "execute_result",
          "data": {
            "text/plain": [
              "[<matplotlib.lines.Line2D at 0x7f5aa049fa90>]"
            ]
          },
          "metadata": {},
          "execution_count": 5
        },
        {
          "output_type": "display_data",
          "data": {
            "text/plain": [
              "<Figure size 640x480 with 1 Axes>"
            ],
            "image/png": "[encoded data removed]"
          },
          "metadata": {}
        }
      ]
    },
    {
      "cell_type": "code",
      "source": [
        "autput.plot_GP()"
      ],
      "metadata": {
        "colab": {
          "base_uri": "https://localhost:8080/",
          "height": 288
        },
        "id": "v5itb1V98JF3",
        "outputId": "a35d1ca5-cb42-4377-b3fc-7ee97f625038"
      },
      "execution_count": 6,
      "outputs": [
        {
          "output_type": "error",
          "ename": "AttributeError",
          "evalue": "ignored",
          "traceback": [
            "\u001b[0;31m---------------------------------------------------------------------------\u001b[0m",
            "\u001b[0;31mAttributeError\u001b[0m                            Traceback (most recent call last)",
            "\u001b[0;32m<ipython-input-6-a7b5d1446c19>\u001b[0m in \u001b[0;36m<cell line: 1>\u001b[0;34m()\u001b[0m\n\u001b[0;32m----> 1\u001b[0;31m \u001b[0mautput\u001b[0m\u001b[0;34m.\u001b[0m\u001b[0mplot_GP\u001b[0m\u001b[0;34m(\u001b[0m\u001b[0;34m)\u001b[0m\u001b[0;34m\u001b[0m\u001b[0;34m\u001b[0m\u001b[0m\n\u001b[0m",
            "\u001b[0;32m<ipython-input-3-47d38757593e>\u001b[0m in \u001b[0;36mplot_GP\u001b[0;34m(self, bounds)\u001b[0m\n\u001b[1;32m    100\u001b[0m     \u001b[0;32mdef\u001b[0m \u001b[0mplot_GP\u001b[0m\u001b[0;34m(\u001b[0m\u001b[0mself\u001b[0m\u001b[0;34m,\u001b[0m \u001b[0mbounds\u001b[0m\u001b[0;34m=\u001b[0m\u001b[0;32mNone\u001b[0m\u001b[0;34m)\u001b[0m\u001b[0;34m:\u001b[0m\u001b[0;34m\u001b[0m\u001b[0;34m\u001b[0m\u001b[0m\n\u001b[1;32m    101\u001b[0m         \u001b[0;32mif\u001b[0m \u001b[0mbounds\u001b[0m \u001b[0;34m==\u001b[0m \u001b[0;32mNone\u001b[0m\u001b[0;34m:\u001b[0m\u001b[0;34m\u001b[0m\u001b[0;34m\u001b[0m\u001b[0m\n\u001b[0;32m--> 102\u001b[0;31m             \u001b[0mself\u001b[0m\u001b[0;34m.\u001b[0m\u001b[0mbo\u001b[0m\u001b[0;34m.\u001b[0m\u001b[0mplot_gp\u001b[0m\u001b[0;34m(\u001b[0m\u001b[0mbounds\u001b[0m\u001b[0;34m=\u001b[0m\u001b[0mself\u001b[0m\u001b[0;34m.\u001b[0m\u001b[0mbounds\u001b[0m\u001b[0;34m)\u001b[0m\u001b[0;34m\u001b[0m\u001b[0;34m\u001b[0m\u001b[0m\n\u001b[0m\u001b[1;32m    103\u001b[0m         \u001b[0;32melse\u001b[0m\u001b[0;34m:\u001b[0m\u001b[0;34m\u001b[0m\u001b[0;34m\u001b[0m\u001b[0m\n\u001b[1;32m    104\u001b[0m             \u001b[0mself\u001b[0m\u001b[0;34m.\u001b[0m\u001b[0mbo\u001b[0m\u001b[0;34m.\u001b[0m\u001b[0mplot_gp\u001b[0m\u001b[0;34m(\u001b[0m\u001b[0mbounds\u001b[0m\u001b[0;34m=\u001b[0m\u001b[0mbounds\u001b[0m\u001b[0;34m)\u001b[0m\u001b[0;34m\u001b[0m\u001b[0;34m\u001b[0m\u001b[0m\n",
            "\u001b[0;31mAttributeError\u001b[0m: 'ActiveChangePointDetection0' object has no attribute 'bo'"
          ]
        }
      ]
    },
    {
      "cell_type": "code",
      "source": [
        "bo.BayesianOptimization."
      ],
      "metadata": {
        "id": "ygE5Hud6soxb"
      },
      "execution_count": null,
      "outputs": []
    }
  ]
}