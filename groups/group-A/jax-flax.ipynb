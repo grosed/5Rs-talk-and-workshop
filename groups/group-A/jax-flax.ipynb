{
  "cells": [
    {
      "cell_type": "markdown",
      "id": "6eea21b3",
      "metadata": {
        "id": "6eea21b3"
      },
      "source": [
        "[![Open in Colab](https://colab.research.google.com/assets/colab-badge.svg)](https://colab.research.google.com/github/google/flax/blob/main/docs/getting_started.ipynb)\n",
        "[![Open On GitHub](https://img.shields.io/badge/Open-on%20GitHub-blue?logo=GitHub)](https://github.com/google/flax/blob/main/docs/getting_started.ipynb)\n",
        "\n",
        "# Quickstart\n",
        "\n",
        "Welcome to Flax!\n",
        "\n",
        "Flax is an open source Python neural network library built on top of [JAX](https://github.com/google/jax). This tutorial demonstrates how to construct a simple convolutional neural\n",
        "network (CNN) using the [Flax](https://flax.readthedocs.io) Linen API and train\n",
        "the network for image classification on the MNIST dataset."
      ]
    },
    {
      "cell_type": "markdown",
      "id": "nwJWKIhdwxDo",
      "metadata": {
        "id": "nwJWKIhdwxDo"
      },
      "source": [
        "## 1. Install Flax"
      ]
    },
    {
      "cell_type": "code",
      "execution_count": 106,
      "id": "bb81587e",
      "metadata": {
        "id": "bb81587e",
        "tags": [
          "skip-execution"
        ]
      },
      "outputs": [],
      "source": [
        "!pip install -q flax"
      ]
    },
    {
      "cell_type": "markdown",
      "id": "b529fbef",
      "metadata": {
        "id": "b529fbef"
      },
      "source": [
        "## 2. Loading data\n",
        "\n",
        "Flax can use any\n",
        "data-loading pipeline and this example demonstrates how to utilize TFDS. Define a function that loads and prepares the MNIST dataset and converts the\n",
        "samples to floating-point numbers."
      ]
    },
    {
      "cell_type": "code",
      "execution_count": 107,
      "id": "bRlrHqZVXZvk",
      "metadata": {
        "id": "bRlrHqZVXZvk"
      },
      "outputs": [],
      "source": [
        "import tensorflow_datasets as tfds  # TFDS for MNIST\n",
        "import tensorflow as tf             # TensorFlow operations\n",
        "\n",
        "def get_datasets(num_epochs, batch_size):\n",
        "  \"\"\"Load MNIST train and test datasets into memory.\"\"\"\n",
        "  train_ds = tfds.load('mnist', split='train')\n",
        "  test_ds = tfds.load('mnist', split='test')\n",
        "\n",
        "  train_ds = train_ds.map(lambda sample: {'image': tf.cast(sample['image'],\n",
        "                                                           tf.float32) / 255.,\n",
        "                                          'label': sample['label']}) # normalize train set\n",
        "  test_ds = test_ds.map(lambda sample: {'image': tf.cast(sample['image'],\n",
        "                                                         tf.float32) / 255.,\n",
        "                                        'label': sample['label']}) # normalize test set\n",
        "\n",
        "  train_ds = train_ds.repeat(num_epochs).shuffle(1024) # create shuffled dataset by allocating a buffer size of 1024 to randomly draw elements from\n",
        "  train_ds = train_ds.batch(batch_size, drop_remainder=True).prefetch(1) # group into batches of batch_size and skip incomplete batch, prefetch the next sample to improve latency\n",
        "  test_ds = test_ds.shuffle(1024) # create shuffled dataset by allocating a buffer size of 1024 to randomly draw elements from\n",
        "  test_ds = test_ds.batch(batch_size, drop_remainder=True).prefetch(1) # group into batches of batch_size and skip incomplete batch, prefetch the next sample to improve latency\n",
        "\n",
        "  return train_ds, test_ds"
      ]
    },
    {
      "cell_type": "markdown",
      "id": "7057395a",
      "metadata": {
        "id": "7057395a"
      },
      "source": [
        "## 3. Define network\n",
        "\n",
        "Create a convolutional neural network with the Linen API by subclassing\n",
        "[Flax Module](https://flax.readthedocs.io/en/latest/flax.linen.html#core-module-abstraction).\n",
        "Because the architecture in this example is relatively simple—you're just\n",
        "stacking layers—you can define the inlined submodules directly within the\n",
        "`__call__` method and wrap it with the\n",
        "[`@compact`](https://flax.readthedocs.io/en/latest/flax.linen.html#compact-methods)\n",
        "decorator. To learn more about the Flax Linen `@compact` decorator, refer to the [`setup` vs `compact`](https://flax.readthedocs.io/en/latest/guides/setup_or_nncompact.html) guide."
      ]
    },
    {
      "cell_type": "code",
      "execution_count": 108,
      "id": "cbc079cd",
      "metadata": {
        "id": "cbc079cd"
      },
      "outputs": [],
      "source": [
        "from flax import linen as nn  # Linen API\n",
        "\n",
        "# class CNN(nn.Module):\n",
        "#   \"\"\"A simple CNN model.\"\"\"\n",
        "\n",
        "#   @nn.compact\n",
        "#   def __call__(self, x):\n",
        "#     x = nn.Conv(features=32, kernel_size=(3, 3))(x)\n",
        "#     x = nn.relu(x)\n",
        "#     x = nn.avg_pool(x, window_shape=(2, 2), strides=(2, 2))\n",
        "#     x = nn.Conv(features=64, kernel_size=(3, 3))(x)\n",
        "#     x = nn.relu(x)\n",
        "#     x = nn.avg_pool(x, window_shape=(2, 2), strides=(2, 2))\n",
        "#     x = x.reshape((x.shape[0], -1))  # flatten\n",
        "#     x = nn.Dense(features=256)(x)\n",
        "#     x = nn.relu(x)\n",
        "#     x = nn.Dense(features=10)(x)\n",
        "#     return x\n",
        "\n",
        "\n",
        "class LOGISTIC(nn.Module):\n",
        "  \"\"\"A simple logistic regression model.\"\"\"\n",
        "\n",
        "  @nn.compact\n",
        "  def __call__(self, x):\n",
        "    x = x.reshape((x.shape[0], -1))  # flatten\n",
        "    x = nn.Dense(features = 10)(x)\n",
        "    x = nn.sigmoid(x)\n",
        "    return x"
      ]
    },
    {
      "cell_type": "markdown",
      "id": "hy7iRu7_zlx-",
      "metadata": {
        "id": "hy7iRu7_zlx-"
      },
      "source": [
        "### View model layers\n",
        "\n",
        "Create an instance of the Flax Module and use the [`Module.tabulate`](https://flax.readthedocs.io/en/latest/api_reference/flax.linen.html#flax.linen.Module.tabulate) method to visualize a table of the model layers by passing an RNG key and template image input."
      ]
    },
    {
      "cell_type": "code",
      "execution_count": 109,
      "id": "lDHfog81zLQa",
      "metadata": {
        "id": "lDHfog81zLQa",
        "outputId": "1516e9be-f9e0-4684-b731-3fcb1caa5164",
        "colab": {
          "base_uri": "https://localhost:8080/"
        }
      },
      "outputs": [
        {
          "output_type": "stream",
          "name": "stdout",
          "text": [
            "\n",
            "\u001b[3m                                LOGISTIC Summary                                \u001b[0m\n",
            "┏━━━━━━━━━┳━━━━━━━━━━┳━━━━━━━━━━━━━━━━━━━━┳━━━━━━━━━━━━━━━┳━━━━━━━━━━━━━━━━━━━━┓\n",
            "┃\u001b[1m \u001b[0m\u001b[1mpath   \u001b[0m\u001b[1m \u001b[0m┃\u001b[1m \u001b[0m\u001b[1mmodule  \u001b[0m\u001b[1m \u001b[0m┃\u001b[1m \u001b[0m\u001b[1minputs            \u001b[0m\u001b[1m \u001b[0m┃\u001b[1m \u001b[0m\u001b[1moutputs      \u001b[0m\u001b[1m \u001b[0m┃\u001b[1m \u001b[0m\u001b[1mparams            \u001b[0m\u001b[1m \u001b[0m┃\n",
            "┡━━━━━━━━━╇━━━━━━━━━━╇━━━━━━━━━━━━━━━━━━━━╇━━━━━━━━━━━━━━━╇━━━━━━━━━━━━━━━━━━━━┩\n",
            "│         │ LOGISTIC │ \u001b[2mfloat32\u001b[0m[1,28,28,1] │ \u001b[2mfloat32\u001b[0m[1,10] │                    │\n",
            "├─────────┼──────────┼────────────────────┼───────────────┼────────────────────┤\n",
            "│ Dense_0 │ Dense    │ \u001b[2mfloat32\u001b[0m[1,784]     │ \u001b[2mfloat32\u001b[0m[1,10] │ bias: \u001b[2mfloat32\u001b[0m[10]  │\n",
            "│         │          │                    │               │ kernel:            │\n",
            "│         │          │                    │               │ \u001b[2mfloat32\u001b[0m[784,10]    │\n",
            "│         │          │                    │               │                    │\n",
            "│         │          │                    │               │ \u001b[1m7,850 \u001b[0m\u001b[1;2m(31.4 KB)\u001b[0m    │\n",
            "├─────────┼──────────┼────────────────────┼───────────────┼────────────────────┤\n",
            "│\u001b[1m \u001b[0m\u001b[1m       \u001b[0m\u001b[1m \u001b[0m│\u001b[1m \u001b[0m\u001b[1m        \u001b[0m\u001b[1m \u001b[0m│\u001b[1m \u001b[0m\u001b[1m                  \u001b[0m\u001b[1m \u001b[0m│\u001b[1m \u001b[0m\u001b[1m        Total\u001b[0m\u001b[1m \u001b[0m│\u001b[1m \u001b[0m\u001b[1m7,850 \u001b[0m\u001b[1;2m(31.4 KB)\u001b[0m\u001b[1m   \u001b[0m\u001b[1m \u001b[0m│\n",
            "└─────────┴──────────┴────────────────────┴───────────────┴────────────────────┘\n",
            "\u001b[1m                                                                                \u001b[0m\n",
            "\u001b[1m                       Total Parameters: 7,850 \u001b[0m\u001b[1;2m(31.4 KB)\u001b[0m\u001b[1m                        \u001b[0m\n",
            "\n",
            "\n"
          ]
        }
      ],
      "source": [
        "import jax\n",
        "import jax.numpy as jnp  # JAX NumPy\n",
        "\n",
        "logistic = LOGISTIC()\n",
        "print(logistic.tabulate(jax.random.PRNGKey(0), jnp.ones((1, 28, 28, 1))))"
      ]
    },
    {
      "cell_type": "markdown",
      "id": "4b5ac16e",
      "metadata": {
        "id": "4b5ac16e"
      },
      "source": [
        "## 4. Create a `TrainState`\n",
        "\n",
        "A common pattern in Flax is to create a single dataclass that represents the\n",
        "entire training state, including step number, parameters, and optimizer state.\n",
        "\n",
        "Because this is such a common pattern, Flax provides the class\n",
        "[`flax.training.train_state.TrainState`](https://flax.readthedocs.io/en/latest/flax.training.html#train-state)\n",
        "that serves most basic usecases."
      ]
    },
    {
      "cell_type": "code",
      "execution_count": 110,
      "id": "qXr7JDpIxGNZ",
      "metadata": {
        "id": "qXr7JDpIxGNZ"
      },
      "outputs": [],
      "source": [
        "!pip install -q clu"
      ]
    },
    {
      "cell_type": "code",
      "execution_count": 111,
      "id": "CJDaJNijyOji",
      "metadata": {
        "id": "CJDaJNijyOji"
      },
      "outputs": [],
      "source": [
        "from clu import metrics\n",
        "from flax.training import train_state  # Useful dataclass to keep train state\n",
        "from flax import struct                # Flax dataclasses\n",
        "import optax                           # Common loss functions and optimizers"
      ]
    },
    {
      "cell_type": "markdown",
      "id": "8b86b5f1",
      "metadata": {
        "id": "8b86b5f1"
      },
      "source": [
        "We will be using the `clu` library for computing metrics. For more information on `clu`, refer to the [repo](https://github.com/google/CommonLoopUtils) and [notebook](https://colab.research.google.com/github/google/CommonLoopUtils/blob/master/clu_synopsis.ipynb#scrollTo=ueom-uBWLbeQ)."
      ]
    },
    {
      "cell_type": "code",
      "execution_count": 112,
      "id": "7W0qf7FC9uG5",
      "metadata": {
        "id": "7W0qf7FC9uG5"
      },
      "outputs": [],
      "source": [
        "@struct.dataclass\n",
        "class Metrics(metrics.Collection):\n",
        "  accuracy: metrics.Accuracy\n",
        "  loss: metrics.Average.from_output('loss')"
      ]
    },
    {
      "cell_type": "markdown",
      "id": "f3ce5e4c",
      "metadata": {
        "id": "f3ce5e4c"
      },
      "source": [
        "You can then subclass `train_state.TrainState` so that it also contains metrics. This has the advantage that we only need\n",
        "to pass around a single argument to functions like `train_step()` (see below) to calculate the loss, update the parameters and compute the metrics all at once."
      ]
    },
    {
      "cell_type": "code",
      "execution_count": 113,
      "id": "e0102447",
      "metadata": {
        "id": "e0102447"
      },
      "outputs": [],
      "source": [
        "class TrainState(train_state.TrainState):\n",
        "  metrics: Metrics\n",
        "\n",
        "def create_train_state(module, rng, learning_rate):\n",
        "  \"\"\"Creates an initial `TrainState`.\"\"\"\n",
        "  params = module.init(rng, jnp.ones([1,28,28,1]))['params'] # initialize parameters by passing a template image\n",
        "  tx = optax.adam(learning_rate)\n",
        "  return TrainState.create(\n",
        "      apply_fn=module.apply, params=params, tx=tx,\n",
        "      metrics=Metrics.empty())"
      ]
    },
    {
      "cell_type": "markdown",
      "id": "a15de484",
      "metadata": {
        "id": "a15de484"
      },
      "source": [
        "## 5. Training step\n",
        "\n",
        "A function that:\n",
        "\n",
        "- Evaluates the neural network given the parameters and a batch of input images\n",
        "  with [`TrainState.apply_fn`](https://flax.readthedocs.io/en/latest/api_reference/flax.training.html#flax.training.train_state.TrainState) (which contains the [`Module.apply`](https://flax.readthedocs.io/en/latest/flax.linen.html#flax.linen.Module.apply)\n",
        "  method (forward pass)).\n",
        "- Computes the cross entropy loss, using the predefined [`optax.softmax_cross_entropy_with_integer_labels()`](https://optax.readthedocs.io/en/latest/api.html#optax.softmax_cross_entropy_with_integer_labels). Note that this function expects integer labels, so there is no need to convert labels to onehot encoding.\n",
        "- Evaluates the gradient of the loss function using\n",
        "  [`jax.grad`](https://jax.readthedocs.io/en/latest/jax.html#jax.grad).\n",
        "- Applies a\n",
        "  [pytree](https://jax.readthedocs.io/en/latest/pytrees.html#pytrees-and-jax-functions)\n",
        "  of gradients to the optimizer to update the model's parameters.\n",
        "\n",
        "Use JAX's [@jit](https://jax.readthedocs.io/en/latest/jax.html#jax.jit)\n",
        "decorator to trace the entire `train_step` function and just-in-time compile\n",
        "it with [XLA](https://www.tensorflow.org/xla) into fused device operations\n",
        "that run faster and more efficiently on hardware accelerators."
      ]
    },
    {
      "cell_type": "code",
      "execution_count": 114,
      "id": "9b0af486",
      "metadata": {
        "id": "9b0af486"
      },
      "outputs": [],
      "source": [
        "@jax.jit\n",
        "def train_step(state, batch):\n",
        "  \"\"\"Train for a single step.\"\"\"\n",
        "  def loss_fn(params):\n",
        "    logits = state.apply_fn({'params': params}, batch['image'])\n",
        "    loss = optax.softmax_cross_entropy_with_integer_labels(\n",
        "        logits=logits, labels=batch['label']).mean()\n",
        "    return loss\n",
        "  grad_fn = jax.grad(loss_fn)\n",
        "  grads = grad_fn(state.params)\n",
        "  state = state.apply_gradients(grads=grads)\n",
        "  return state"
      ]
    },
    {
      "cell_type": "markdown",
      "id": "0ff5145f",
      "metadata": {
        "id": "0ff5145f"
      },
      "source": [
        "## 6. Metric computation\n",
        "\n",
        "Create a separate function for loss and accuracy metrics. Loss is calculated using the `optax.softmax_cross_entropy_with_integer_labels` function, while accuracy is calculated using `clu.metrics`."
      ]
    },
    {
      "cell_type": "code",
      "execution_count": 115,
      "id": "961bf70b",
      "metadata": {
        "id": "961bf70b"
      },
      "outputs": [],
      "source": [
        "@jax.jit\n",
        "def compute_metrics(*, state, batch):\n",
        "  logits = state.apply_fn({'params': state.params}, batch['image'])\n",
        "  loss = optax.softmax_cross_entropy_with_integer_labels(\n",
        "        logits=logits, labels=batch['label']).mean()\n",
        "  metric_updates = state.metrics.single_from_model_output(\n",
        "    logits=logits, labels=batch['label'], loss=loss)\n",
        "  metrics = state.metrics.merge(metric_updates)\n",
        "  state = state.replace(metrics=metrics)\n",
        "  return state"
      ]
    },
    {
      "cell_type": "markdown",
      "id": "497241c3",
      "metadata": {
        "id": "497241c3"
      },
      "source": [
        "## 7. Download data"
      ]
    },
    {
      "cell_type": "code",
      "execution_count": 127,
      "id": "bff5393e",
      "metadata": {
        "id": "bff5393e"
      },
      "outputs": [],
      "source": [
        "num_epochs = 45\n",
        "batch_size = 128\n",
        "\n",
        "train_ds, test_ds = get_datasets(num_epochs, batch_size)"
      ]
    },
    {
      "cell_type": "markdown",
      "id": "809ae1a0",
      "metadata": {
        "id": "809ae1a0"
      },
      "source": [
        "## 8. Seed randomness\n",
        "\n",
        "- Set the TF random seed to ensure dataset shuffling (with `tf.data.Dataset.shuffle`) is reproducible.\n",
        "- Get one\n",
        "  [PRNGKey](https://jax.readthedocs.io/en/latest/_autosummary/jax.random.PRNGKey.html#jax.random.PRNGKey)\n",
        "  and use it for parameter initialization. (Learn\n",
        "  more about\n",
        "  [JAX PRNG design](https://jax.readthedocs.io/en/latest/jax-101/05-random-numbers.html)\n",
        "  and [PRNG chains](https://flax.readthedocs.io/en/latest/design_notes/linen_design_principles.html#how-are-parameters-represented-and-how-do-we-handle-general-differentiable-algorithms-that-update-stateful-variables).)"
      ]
    },
    {
      "cell_type": "code",
      "execution_count": 128,
      "id": "xC4MFyBsfT-U",
      "metadata": {
        "id": "xC4MFyBsfT-U"
      },
      "outputs": [],
      "source": [
        "tf.random.set_seed(0)"
      ]
    },
    {
      "cell_type": "code",
      "execution_count": 129,
      "id": "e4f6f4d3",
      "metadata": {
        "id": "e4f6f4d3"
      },
      "outputs": [],
      "source": [
        "init_rng = jax.random.PRNGKey(0)"
      ]
    },
    {
      "cell_type": "markdown",
      "id": "80fbb60b",
      "metadata": {
        "id": "80fbb60b"
      },
      "source": [
        "## 9. Initialize the `TrainState`\n",
        "\n",
        "Remember that the function `create_train_state` initializes the model parameters, optimizer and metrics\n",
        "and puts them into the training state dataclass that is returned."
      ]
    },
    {
      "cell_type": "code",
      "execution_count": 130,
      "id": "445fcab0",
      "metadata": {
        "id": "445fcab0"
      },
      "outputs": [],
      "source": [
        "learning_rate = 0.001\n",
        "# momentum = 0.9"
      ]
    },
    {
      "cell_type": "code",
      "execution_count": 131,
      "id": "5221eafd",
      "metadata": {
        "id": "5221eafd"
      },
      "outputs": [],
      "source": [
        "state = create_train_state(logistic, init_rng, learning_rate)\n",
        "del init_rng  # Must not be used anymore."
      ]
    },
    {
      "cell_type": "markdown",
      "id": "b1c00230",
      "metadata": {
        "id": "b1c00230"
      },
      "source": [
        "## 10. Train and evaluate\n",
        "\n",
        "Create a \"shuffled\" dataset by:\n",
        "- Repeating the dataset equal to the number of training epochs\n",
        "- Allocating a buffer of size 1024 (containing the first 1024 samples in the dataset) of which to randomly sample batches from\n",
        "  - Everytime a sample is randomly drawn from the buffer, the next sample in the dataset is loaded into the buffer\n",
        "\n",
        "Define a training loop that:\n",
        "- Randomly samples batches from the dataset.\n",
        "- Runs an optimization step for each training batch.\n",
        "- Computes the mean training metrics across each batch in an epoch.\n",
        "- Computes the metrics for the test set using the updated parameters.\n",
        "- Records the train and test metrics for visualization.\n",
        "\n",
        "Once the training and testing is done after 10 epochs, the output should show that your model was able to achieve approximately 99% accuracy."
      ]
    },
    {
      "cell_type": "code",
      "execution_count": 132,
      "id": "74295360",
      "metadata": {
        "id": "74295360"
      },
      "outputs": [],
      "source": [
        "# since train_ds is replicated num_epochs times in get_datasets(), we divide by num_epochs\n",
        "num_steps_per_epoch = train_ds.cardinality().numpy() // num_epochs"
      ]
    },
    {
      "cell_type": "code",
      "execution_count": 133,
      "id": "cRtnMZuQFlKl",
      "metadata": {
        "id": "cRtnMZuQFlKl"
      },
      "outputs": [],
      "source": [
        "metrics_history = {'train_loss': [],\n",
        "                   'train_accuracy': [],\n",
        "                   'test_loss': [],\n",
        "                   'test_accuracy': []}"
      ]
    },
    {
      "cell_type": "code",
      "execution_count": 134,
      "id": "2c40ce90",
      "metadata": {
        "id": "2c40ce90",
        "outputId": "4bfb5ef8-0517-4f0a-b3a6-69062d3d7414",
        "colab": {
          "base_uri": "https://localhost:8080/"
        }
      },
      "outputs": [
        {
          "output_type": "stream",
          "name": "stdout",
          "text": [
            "train epoch: 1, loss: 1.7767727375030518, accuracy: 80.91947174072266\n",
            "test epoch: 1, loss: 1.6522927284240723, accuracy: 87.96073913574219\n",
            "train epoch: 2, loss: 1.6346404552459717, accuracy: 87.78044891357422\n",
            "test epoch: 2, loss: 1.6095026731491089, accuracy: 89.34294891357422\n",
            "train epoch: 3, loss: 1.6068663597106934, accuracy: 88.87887573242188\n",
            "test epoch: 3, loss: 1.5917842388153076, accuracy: 90.06410217285156\n",
            "train epoch: 4, loss: 1.5929359197616577, accuracy: 89.44979095458984\n",
            "test epoch: 4, loss: 1.5818660259246826, accuracy: 90.35456848144531\n",
            "train epoch: 5, loss: 1.5842690467834473, accuracy: 89.77531433105469\n",
            "test epoch: 5, loss: 1.5752761363983154, accuracy: 90.51482391357422\n",
            "train epoch: 6, loss: 1.5782485008239746, accuracy: 90.0691146850586\n",
            "test epoch: 6, loss: 1.570359230041504, accuracy: 90.84535217285156\n",
            "train epoch: 7, loss: 1.5735290050506592, accuracy: 90.32786560058594\n",
            "test epoch: 7, loss: 1.5670273303985596, accuracy: 90.84535217285156\n",
            "train epoch: 8, loss: 1.5700193643569946, accuracy: 90.48310852050781\n",
            "test epoch: 8, loss: 1.5640889406204224, accuracy: 90.95552825927734\n",
            "train epoch: 9, loss: 1.5669043064117432, accuracy: 90.65672302246094\n",
            "test epoch: 9, loss: 1.5618103742599487, accuracy: 91.05569458007812\n",
            "train epoch: 10, loss: 1.5643755197525024, accuracy: 90.7535400390625\n",
            "test epoch: 10, loss: 1.5597000122070312, accuracy: 91.11578369140625\n",
            "train epoch: 11, loss: 1.56243097782135, accuracy: 90.80028533935547\n",
            "test epoch: 11, loss: 1.5580981969833374, accuracy: 91.14583587646484\n",
            "train epoch: 12, loss: 1.5604674816131592, accuracy: 90.9087905883789\n",
            "test epoch: 12, loss: 1.556790828704834, accuracy: 91.2159423828125\n",
            "train epoch: 13, loss: 1.5588830709457397, accuracy: 91.0406723022461\n",
            "test epoch: 13, loss: 1.555633306503296, accuracy: 91.30609130859375\n",
            "train epoch: 14, loss: 1.5572987794876099, accuracy: 91.11746215820312\n",
            "test epoch: 14, loss: 1.5545486211776733, accuracy: 91.41626739501953\n",
            "train epoch: 15, loss: 1.5563709735870361, accuracy: 91.13916015625\n",
            "test epoch: 15, loss: 1.5536742210388184, accuracy: 91.396240234375\n",
            "train epoch: 16, loss: 1.5549607276916504, accuracy: 91.25434875488281\n",
            "test epoch: 16, loss: 1.5529636144638062, accuracy: 91.44631958007812\n",
            "train epoch: 17, loss: 1.5540478229522705, accuracy: 91.272705078125\n",
            "test epoch: 17, loss: 1.5521914958953857, accuracy: 91.42628479003906\n",
            "train epoch: 18, loss: 1.5530691146850586, accuracy: 91.34782409667969\n",
            "test epoch: 18, loss: 1.5514458417892456, accuracy: 91.43629455566406\n",
            "train epoch: 19, loss: 1.5521061420440674, accuracy: 91.40458679199219\n",
            "test epoch: 19, loss: 1.5506718158721924, accuracy: 91.49639892578125\n",
            "train epoch: 20, loss: 1.5513842105865479, accuracy: 91.45133209228516\n",
            "test epoch: 20, loss: 1.5502746105194092, accuracy: 91.51642608642578\n",
            "train epoch: 21, loss: 1.550777792930603, accuracy: 91.45299530029297\n",
            "test epoch: 21, loss: 1.5500028133392334, accuracy: 91.54647827148438\n",
            "train epoch: 22, loss: 1.5498276948928833, accuracy: 91.51476287841797\n",
            "test epoch: 22, loss: 1.5491130352020264, accuracy: 91.5665054321289\n",
            "train epoch: 23, loss: 1.5494811534881592, accuracy: 91.52645111083984\n",
            "test epoch: 23, loss: 1.5490262508392334, accuracy: 91.62660217285156\n",
            "train epoch: 24, loss: 1.5485291481018066, accuracy: 91.63495635986328\n",
            "test epoch: 24, loss: 1.548712968826294, accuracy: 91.61659240722656\n",
            "train epoch: 25, loss: 1.548535704612732, accuracy: 91.59656524658203\n",
            "test epoch: 25, loss: 1.548323392868042, accuracy: 91.70673370361328\n",
            "train epoch: 26, loss: 1.5474642515182495, accuracy: 91.70673370361328\n",
            "test epoch: 26, loss: 1.5478447675704956, accuracy: 91.64663696289062\n",
            "train epoch: 27, loss: 1.5472153425216675, accuracy: 91.6850357055664\n",
            "test epoch: 27, loss: 1.54749596118927, accuracy: 91.66667175292969\n",
            "train epoch: 28, loss: 1.546631932258606, accuracy: 91.76850128173828\n",
            "test epoch: 28, loss: 1.54718017578125, accuracy: 91.65664672851562\n",
            "train epoch: 29, loss: 1.5461782217025757, accuracy: 91.7518081665039\n",
            "test epoch: 29, loss: 1.5469294786453247, accuracy: 91.7568130493164\n",
            "train epoch: 30, loss: 1.5457507371902466, accuracy: 91.83026885986328\n",
            "test epoch: 30, loss: 1.5467597246170044, accuracy: 91.77684020996094\n",
            "train epoch: 31, loss: 1.545445203781128, accuracy: 91.82525634765625\n",
            "test epoch: 31, loss: 1.5464122295379639, accuracy: 91.7568130493164\n",
            "train epoch: 32, loss: 1.5451560020446777, accuracy: 91.84028625488281\n",
            "test epoch: 32, loss: 1.5462567806243896, accuracy: 91.796875\n",
            "train epoch: 33, loss: 1.54449462890625, accuracy: 91.87867736816406\n",
            "test epoch: 33, loss: 1.545935034751892, accuracy: 91.786865234375\n",
            "train epoch: 34, loss: 1.5443346500396729, accuracy: 91.91373443603516\n",
            "test epoch: 34, loss: 1.5458329916000366, accuracy: 91.796875\n",
            "train epoch: 35, loss: 1.5437966585159302, accuracy: 91.94377899169922\n",
            "test epoch: 35, loss: 1.5456079244613647, accuracy: 91.786865234375\n",
            "train epoch: 36, loss: 1.5437233448028564, accuracy: 91.9604721069336\n",
            "test epoch: 36, loss: 1.5454683303833008, accuracy: 91.77684020996094\n",
            "train epoch: 37, loss: 1.5432605743408203, accuracy: 91.96214294433594\n",
            "test epoch: 37, loss: 1.5451582670211792, accuracy: 91.7568130493164\n",
            "train epoch: 38, loss: 1.543108344078064, accuracy: 91.96882629394531\n",
            "test epoch: 38, loss: 1.5451676845550537, accuracy: 91.786865234375\n",
            "train epoch: 39, loss: 1.5426025390625, accuracy: 92.00554656982422\n",
            "test epoch: 39, loss: 1.5450831651687622, accuracy: 91.83694458007812\n",
            "train epoch: 40, loss: 1.5423686504364014, accuracy: 91.99552917480469\n",
            "test epoch: 40, loss: 1.5447511672973633, accuracy: 91.76683044433594\n",
            "train epoch: 41, loss: 1.54206383228302, accuracy: 91.98719024658203\n",
            "test epoch: 41, loss: 1.5446882247924805, accuracy: 91.72676086425781\n",
            "train epoch: 42, loss: 1.5420317649841309, accuracy: 91.98551177978516\n",
            "test epoch: 42, loss: 1.5445449352264404, accuracy: 91.72676086425781\n",
            "train epoch: 43, loss: 1.5416045188903809, accuracy: 92.04227447509766\n",
            "test epoch: 43, loss: 1.5442835092544556, accuracy: 91.80689239501953\n",
            "train epoch: 44, loss: 1.5414420366287231, accuracy: 92.03058624267578\n",
            "test epoch: 44, loss: 1.5441110134124756, accuracy: 91.88702392578125\n",
            "train epoch: 45, loss: 1.5409249067306519, accuracy: 92.08233642578125\n",
            "test epoch: 45, loss: 1.544156551361084, accuracy: 91.83694458007812\n"
          ]
        }
      ],
      "source": [
        "for step,batch in enumerate(train_ds.as_numpy_iterator()):\n",
        "\n",
        "  # Run optimization steps over training batches and compute batch metrics\n",
        "  state = train_step(state, batch) # get updated train state (which contains the updated parameters)\n",
        "  state = compute_metrics(state=state, batch=batch) # aggregate batch metrics\n",
        "\n",
        "  if (step+1) % num_steps_per_epoch == 0: # one training epoch has passed\n",
        "    for metric,value in state.metrics.compute().items(): # compute metrics\n",
        "      metrics_history[f'train_{metric}'].append(value) # record metrics\n",
        "    state = state.replace(metrics=state.metrics.empty()) # reset train_metrics for next training epoch\n",
        "\n",
        "    # Compute metrics on the test set after each training epoch\n",
        "    test_state = state\n",
        "    for test_batch in test_ds.as_numpy_iterator():\n",
        "      test_state = compute_metrics(state=test_state, batch=test_batch)\n",
        "\n",
        "    for metric,value in test_state.metrics.compute().items():\n",
        "      metrics_history[f'test_{metric}'].append(value)\n",
        "\n",
        "    print(f\"train epoch: {(step+1) // num_steps_per_epoch}, \"\n",
        "          f\"loss: {metrics_history['train_loss'][-1]}, \"\n",
        "          f\"accuracy: {metrics_history['train_accuracy'][-1] * 100}\")\n",
        "    print(f\"test epoch: {(step+1) // num_steps_per_epoch}, \"\n",
        "          f\"loss: {metrics_history['test_loss'][-1]}, \"\n",
        "          f\"accuracy: {metrics_history['test_accuracy'][-1] * 100}\")"
      ]
    },
    {
      "cell_type": "markdown",
      "id": "gfsecJzvzgCT",
      "metadata": {
        "id": "gfsecJzvzgCT"
      },
      "source": [
        "## 11. Visualize metrics"
      ]
    },
    {
      "cell_type": "code",
      "execution_count": 135,
      "id": "Zs5atiqIG9Kz",
      "metadata": {
        "id": "Zs5atiqIG9Kz",
        "outputId": "60fc0167-8c26-403a-9d5c-9cca6c38bc6d",
        "colab": {
          "base_uri": "https://localhost:8080/",
          "height": 462
        }
      },
      "outputs": [
        {
          "output_type": "display_data",
          "data": {
            "text/plain": [
              "<Figure size 1500x500 with 2 Axes>"
            ],
            "image/png": "[encoded data removed]"
          },
          "metadata": {}
        },
        {
          "output_type": "display_data",
          "data": {
            "text/plain": [
              "<Figure size 640x480 with 0 Axes>"
            ]
          },
          "metadata": {}
        }
      ],
      "source": [
        "import matplotlib.pyplot as plt  # Visualization\n",
        "\n",
        "# Plot loss and accuracy in subplots\n",
        "fig, (ax1, ax2) = plt.subplots(1, 2, figsize=(15, 5))\n",
        "ax1.set_title('Loss')\n",
        "ax2.set_title('Accuracy')\n",
        "for dataset in ('train','test'):\n",
        "  ax1.plot(metrics_history[f'{dataset}_loss'], label=f'{dataset}_loss')\n",
        "  ax2.plot(metrics_history[f'{dataset}_accuracy'], label=f'{dataset}_accuracy')\n",
        "ax1.legend()\n",
        "ax2.legend()\n",
        "plt.show()\n",
        "plt.clf()"
      ]
    },
    {
      "cell_type": "markdown",
      "id": "qQbKS0tV3sZ1",
      "metadata": {
        "id": "qQbKS0tV3sZ1"
      },
      "source": [
        "## 12. Perform inference on test set\n",
        "\n",
        "Define a jitted inference function `pred_step`. Use the learned parameters to do model inference on the test set and visualize the images and their corresponding predicted labels."
      ]
    },
    {
      "cell_type": "code",
      "execution_count": 125,
      "id": "DFwxgBQf44ks",
      "metadata": {
        "id": "DFwxgBQf44ks"
      },
      "outputs": [],
      "source": [
        "@jax.jit\n",
        "def pred_step(state, batch):\n",
        "  logits = state.apply_fn({'params': state.params}, test_batch['image'])\n",
        "  return logits.argmax(axis=1)\n",
        "\n",
        "test_batch = test_ds.as_numpy_iterator().next()\n",
        "pred = pred_step(state, test_batch)"
      ]
    },
    {
      "cell_type": "code",
      "execution_count": 126,
      "id": "5d5nF3u44JFI",
      "metadata": {
        "id": "5d5nF3u44JFI",
        "outputId": "34adf528-e3c1-4371-ab08-98bd77924cae",
        "colab": {
          "base_uri": "https://localhost:8080/",
          "height": 983
        }
      },
      "outputs": [
        {
          "output_type": "display_data",
          "data": {
            "text/plain": [
              "<Figure size 1200x1200 with 25 Axes>"
            ],
            "image/png": "[encoded data removed]"
          },
          "metadata": {}
        }
      ],
      "source": [
        "fig, axs = plt.subplots(5, 5, figsize=(12, 12))\n",
        "for i, ax in enumerate(axs.flatten()):\n",
        "    ax.imshow(test_batch['image'][i, ..., 0], cmap='gray')\n",
        "    ax.set_title(f\"label={pred[i]}\")\n",
        "    ax.axis('off')"
      ]
    },
    {
      "cell_type": "markdown",
      "id": "edb528b6",
      "metadata": {
        "id": "edb528b6"
      },
      "source": [
        "Congratulations! You made it to the end of the annotated MNIST example. You can revisit\n",
        "the same example, but structured differently as a couple of Python modules, test\n",
        "modules, config files, another Colab, and documentation in Flax's Git repo:\n",
        "\n",
        "[https://github.com/google/flax/tree/main/examples/mnist](https://github.com/google/flax/tree/main/examples/mnist)"
      ]
    }
  ],
  "metadata": {
    "jupytext": {
      "formats": "ipynb,md:myst",
      "main_language": "python"
    },
    "language_info": {
      "name": "python"
    },
    "colab": {
      "provenance": []
    },
    "kernelspec": {
      "name": "python3",
      "display_name": "Python 3"
    },
    "gpuClass": "standard",
    "accelerator": "GPU"
  },
  "nbformat": 4,
  "nbformat_minor": 5
}